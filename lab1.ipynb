{
  "cells": [
    {
      "cell_type": "markdown",
      "metadata": {
        "id": "view-in-github",
        "colab_type": "text"
      },
      "source": [
        "<a href=\"https://colab.research.google.com/github/nikhilongo/text_file_conversion_time_compare/blob/main/lab1.ipynb\" target=\"_parent\"><img src=\"https://colab.research.google.com/assets/colab-badge.svg\" alt=\"Open In Colab\"/></a>"
      ]
    },
    {
      "cell_type": "code",
      "execution_count": null,
      "metadata": {
        "id": "7wvKC00KW-we"
      },
      "outputs": [],
      "source": [
        "import random\n",
        "import string"
      ]
    },
    {
      "cell_type": "code",
      "execution_count": null,
      "metadata": {
        "id": "rqv_4Vd5XClx"
      },
      "outputs": [],
      "source": [
        "def generate_random_text_file(filename, size_mb):\n",
        "    size_bytes = size_mb * 1024 * 1024\n",
        "    chars = string.ascii_letters + string.digits + string.punctuation + string.whitespace\n",
        "    with open(filename, 'w') as f:\n",
        "        for _ in range(size_bytes):\n",
        "            f.write(random.choice(chars))"
      ]
    },
    {
      "cell_type": "code",
      "execution_count": null,
      "metadata": {
        "colab": {
          "base_uri": "https://localhost:8080/"
        },
        "id": "MjaVwDhsXIf5",
        "outputId": "08177f71-53c9-4d7d-adac-8619fe623289"
      },
      "outputs": [
        {
          "output_type": "stream",
          "name": "stdout",
          "text": [
            "random_200MB.txt created successfully.\n"
          ]
        }
      ],
      "source": [
        "generate_random_text_file('random_200MB.txt', 200)\n",
        "print('random_200MB.txt created successfully.')"
      ]
    },
    {
      "cell_type": "code",
      "execution_count": null,
      "metadata": {
        "colab": {
          "base_uri": "https://localhost:8080/"
        },
        "id": "T4vrm3-HXLJZ",
        "outputId": "20882962-eabf-46f3-98ff-c5b9382265c7"
      },
      "outputs": [
        {
          "output_type": "stream",
          "name": "stdout",
          "text": [
            "random_400MB.txt created successfully.\n"
          ]
        }
      ],
      "source": [
        "generate_random_text_file('random_400MB.txt', 400)\n",
        "print('random_400MB.txt created successfully.')"
      ]
    },
    {
      "cell_type": "code",
      "execution_count": null,
      "metadata": {
        "colab": {
          "base_uri": "https://localhost:8080/"
        },
        "id": "mzC1dW-UXqna",
        "outputId": "b694913e-7cdd-4efd-b972-5d3b58fe8e41"
      },
      "outputs": [
        {
          "output_type": "stream",
          "name": "stdout",
          "text": [
            "random_600MB.txt created successfully.\n"
          ]
        }
      ],
      "source": [
        "generate_random_text_file('random_600MB.txt', 600)\n",
        "print('random_600MB.txt created successfully.')"
      ]
    },
    {
      "cell_type": "code",
      "execution_count": null,
      "metadata": {
        "colab": {
          "base_uri": "https://localhost:8080/"
        },
        "id": "EQGZhQgyYoJw",
        "outputId": "15e8aa5f-b148-40e1-e40a-7266e0e50c84"
      },
      "outputs": [
        {
          "output_type": "stream",
          "name": "stdout",
          "text": [
            "random_800MB.txt created successfully.\n"
          ]
        }
      ],
      "source": [
        "generate_random_text_file('random_800MB.txt', 800)\n",
        "print('random_800MB.txt created successfully.')"
      ]
    },
    {
      "cell_type": "code",
      "execution_count": null,
      "metadata": {
        "colab": {
          "base_uri": "https://localhost:8080/"
        },
        "id": "ykmN3ktcY2rD",
        "outputId": "647502c9-ebfd-49e2-9747-bc9fe3c3f07d"
      },
      "outputs": [
        {
          "output_type": "stream",
          "name": "stdout",
          "text": [
            "random_1000MB.txt created successfully.\n"
          ]
        }
      ],
      "source": [
        "generate_random_text_file('random_1000MB.txt', 1000)\n",
        "print('random_1000MB.txt created successfully.')"
      ]
    },
    {
      "cell_type": "code",
      "execution_count": null,
      "metadata": {
        "id": "LFQ-cTb2Y9AY"
      },
      "outputs": [],
      "source": [
        "def read_text_file(filename):\n",
        "    with open(filename, 'r') as file:\n",
        "        content = file.read()\n",
        "    return content"
      ]
    },
    {
      "cell_type": "code",
      "execution_count": null,
      "metadata": {
        "id": "zoUYk-4CZFSo"
      },
      "outputs": [],
      "source": [
        "content2 = read_text_file('random_200MB.txt')"
      ]
    },
    {
      "cell_type": "code",
      "execution_count": null,
      "metadata": {
        "id": "cO4t23D2ZHj3"
      },
      "outputs": [],
      "source": [
        "ontent4 = read_text_file('random_400MB.txt')"
      ]
    },
    {
      "cell_type": "code",
      "execution_count": null,
      "metadata": {
        "id": "dVH-c7JeZLCI"
      },
      "outputs": [],
      "source": [
        "content6 = read_text_file('random_600MB.txt')"
      ]
    },
    {
      "cell_type": "code",
      "execution_count": null,
      "metadata": {
        "id": "6w2MDmCOZM4n"
      },
      "outputs": [],
      "source": [
        "content8 = read_text_file('random_800MB.txt')"
      ]
    },
    {
      "cell_type": "code",
      "execution_count": null,
      "metadata": {
        "id": "VQRJnDgWZQeY"
      },
      "outputs": [],
      "source": [
        "content10 = read_text_file('random_1000MB.txt')"
      ]
    },
    {
      "cell_type": "code",
      "execution_count": null,
      "metadata": {
        "id": "u2QB40-UZS4i"
      },
      "outputs": [],
      "source": [
        "import time\n",
        "\n",
        "def tm(text):\n",
        "    begin = time.time()\n",
        "    text.upper()\n",
        "    end = time.time()\n",
        "    t = (end-begin)\n",
        "    return t"
      ]
    },
    {
      "cell_type": "code",
      "execution_count": null,
      "metadata": {
        "id": "X0NguNpdZVTg"
      },
      "outputs": [],
      "source": [
        "t2 = tm(content2)"
      ]
    },
    {
      "cell_type": "code",
      "execution_count": null,
      "metadata": {
        "id": "EPbxU6CwZYvR"
      },
      "outputs": [],
      "source": [
        "t4 = tm(ontent4)"
      ]
    },
    {
      "cell_type": "code",
      "execution_count": null,
      "metadata": {
        "id": "qxn80HvrZbZQ"
      },
      "outputs": [],
      "source": [
        "t4 = tm(content4)"
      ]
    },
    {
      "cell_type": "code",
      "execution_count": null,
      "metadata": {
        "id": "FOAun1bQZesn"
      },
      "outputs": [],
      "source": [
        "t6 = tm(content6)"
      ]
    },
    {
      "cell_type": "code",
      "execution_count": null,
      "metadata": {
        "id": "DY8prhmKZg44"
      },
      "outputs": [],
      "source": [
        "t8 = tm(content8)"
      ]
    },
    {
      "cell_type": "code",
      "execution_count": null,
      "metadata": {
        "id": "kq-y0As7ZkyI"
      },
      "outputs": [],
      "source": [
        "t10 = tm(content10)"
      ]
    },
    {
      "cell_type": "code",
      "execution_count": null,
      "metadata": {
        "id": "lhkaW1fMZlXv"
      },
      "outputs": [],
      "source": [
        "import numpy as np\n",
        "import matplotlib.pyplot as plt"
      ]
    },
    {
      "cell_type": "code",
      "execution_count": null,
      "metadata": {
        "id": "mBSOCw9BaqIA"
      },
      "outputs": [],
      "source": [
        "t = np.array([t2,t4,t6,t8,t10])\n",
        "f = np.array([200,400,600,800,1000])"
      ]
    },
    {
      "cell_type": "code",
      "execution_count": null,
      "metadata": {
        "id": "CbtEDWzfa9l5",
        "colab": {
          "base_uri": "https://localhost:8080/",
          "height": 430
        },
        "outputId": "b5b26f82-16f7-498f-ac77-5be6e2069a67"
      },
      "outputs": [
        {
          "output_type": "display_data",
          "data": {
            "text/plain": [
              "<Figure size 640x480 with 1 Axes>"
            ],
            "image/png": "[encoded data removed]"
          },
          "metadata": {}
        }
      ],
      "source": [
        "plt.plot(t, f,color = 'r')\n",
        "plt.show()"
      ]
    },
    {
      "cell_type": "code",
      "source": [],
      "metadata": {
        "id": "G8_En5naRaNF"
      },
      "execution_count": null,
      "outputs": []
    }
  ],
  "metadata": {
    "accelerator": "GPU",
    "colab": {
      "gpuType": "T4",
      "provenance": [],
      "authorship_tag": "ABX9TyM1lOeHZhstJj5AOnEaD9RI",
      "include_colab_link": true
    },
    "kernelspec": {
      "display_name": "Python 3",
      "name": "python3"
    },
    "language_info": {
      "name": "python"
    }
  },
  "nbformat": 4,
  "nbformat_minor": 0
}